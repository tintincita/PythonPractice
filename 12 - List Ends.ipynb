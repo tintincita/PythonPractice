{
 "cells": [
  {
   "cell_type": "code",
   "execution_count": 1,
   "id": "9d603a28",
   "metadata": {},
   "outputs": [],
   "source": [
    "import random"
   ]
  },
  {
   "cell_type": "code",
   "execution_count": null,
   "id": "0e47483d",
   "metadata": {},
   "outputs": [],
   "source": []
  },
  {
   "cell_type": "code",
   "execution_count": 8,
   "id": "93b3b46d",
   "metadata": {},
   "outputs": [],
   "source": [
    "def first_and_last(a):\n",
    "    liste =[]\n",
    "    liste.append(a[0])\n",
    "    liste.append(a[-1])\n",
    "    return liste\n",
    "\n",
    "def random_liste():\n",
    "    len_a = random.randint(1,20)\n",
    "    a = []\n",
    "    for i in range(0,len_a):\n",
    "        new = random.randint(0,100)\n",
    "        a.append(new)\n",
    "    return a"
   ]
  },
  {
   "cell_type": "code",
   "execution_count": 9,
   "id": "722c9965",
   "metadata": {},
   "outputs": [
    {
     "name": "stdout",
     "output_type": "stream",
     "text": [
      "creating random list ...\n",
      "[58, 61, 50, 88, 88, 44, 18, 90, 54, 34, 23, 77, 52, 56, 64, 19, 25, 11, 42]\n",
      "first and last items are: \n",
      "[58, 42]\n"
     ]
    }
   ],
   "source": [
    "print(\"creating random list ...\")\n",
    "random_list = random_liste()\n",
    "print(random_list)\n",
    "print(\"first and last items are: \")\n",
    "items=first_and_last(random_list)\n",
    "print(items)"
   ]
  },
  {
   "cell_type": "code",
   "execution_count": null,
   "id": "8e75f21f",
   "metadata": {},
   "outputs": [],
   "source": []
  }
 ],
 "metadata": {
  "kernelspec": {
   "display_name": "Python 3",
   "language": "python",
   "name": "python3"
  },
  "language_info": {
   "codemirror_mode": {
    "name": "ipython",
    "version": 3
   },
   "file_extension": ".py",
   "mimetype": "text/x-python",
   "name": "python",
   "nbconvert_exporter": "python",
   "pygments_lexer": "ipython3",
   "version": "3.8.8"
  }
 },
 "nbformat": 4,
 "nbformat_minor": 5
}
