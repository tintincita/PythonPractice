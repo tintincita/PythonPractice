{
 "cells": [
  {
   "cell_type": "code",
   "execution_count": 36,
   "id": "c96f4084",
   "metadata": {},
   "outputs": [
    {
     "name": "stdout",
     "output_type": "stream",
     "text": [
      "Tell me something: Cigar? Toss it in a can. It is so tragic.\n",
      "that's a palindrome\n"
     ]
    }
   ],
   "source": [
    "sentence=input(\"Tell me something: \")\n",
    "\n",
    "punctuation= '''!()-[]{};:'\"\\, <>./?@#$%^&*_~'''\n",
    "\n",
    "newString=\"\"\n",
    "for x in sentence:\n",
    "    if x not in punctuation:\n",
    "        newString=newString+x\n",
    "        \n",
    "clean_sentence = newString.lower()\n",
    "\n",
    "    \n",
    "if clean_sentence == clean_sentence[::-1] :\n",
    "       print(\"that's a palindrome\")\n",
    "else:\n",
    "    print(\"not a palindrome\")"
   ]
  },
  {
   "cell_type": "code",
   "execution_count": 17,
   "id": "85308a67",
   "metadata": {},
   "outputs": [
    {
     "name": "stdout",
     "output_type": "stream",
     "text": [
      "something\n"
     ]
    }
   ],
   "source": []
  },
  {
   "cell_type": "code",
   "execution_count": 25,
   "id": "7d46b2f7",
   "metadata": {},
   "outputs": [
    {
     "name": "stdout",
     "output_type": "stream",
     "text": [
      "Give me a random word\n",
      "Sit on a potato pan, Otis\n",
      "Sit on a potato pan, Otis is not a palindrome!\n"
     ]
    }
   ],
   "source": [
    "inp = input(\"Give me a random word\\n\")\n",
    "if inp.lower() == inp[::-1].lower(): print(\"{} is a palindrome!\".format(inp))\n",
    "else: print(\"{} is not a palindrome!\".format(inp))"
   ]
  },
  {
   "cell_type": "code",
   "execution_count": null,
   "id": "cfca93bd",
   "metadata": {},
   "outputs": [],
   "source": []
  }
 ],
 "metadata": {
  "kernelspec": {
   "display_name": "Python 3",
   "language": "python",
   "name": "python3"
  },
  "language_info": {
   "codemirror_mode": {
    "name": "ipython",
    "version": 3
   },
   "file_extension": ".py",
   "mimetype": "text/x-python",
   "name": "python",
   "nbconvert_exporter": "python",
   "pygments_lexer": "ipython3",
   "version": "3.8.8"
  }
 },
 "nbformat": 4,
 "nbformat_minor": 5
}
