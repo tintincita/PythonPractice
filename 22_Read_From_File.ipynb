{
 "cells": [
  {
   "cell_type": "code",
   "execution_count": null,
   "id": "12cfadc2",
   "metadata": {},
   "outputs": [],
   "source": [
    "with open(\"nameslist.txt\",'r') as fp:\n",
    "    for count, line in enumerate(fp):\n",
    "        pass\n",
    "print('Total Lines', count + 1)\n",
    "\n",
    "# reference https://pynative.com/python-count-number-of-lines-in-file/"
   ]
  },
  {
   "cell_type": "code",
   "execution_count": null,
   "id": "b30e9b30",
   "metadata": {},
   "outputs": [],
   "source": [
    "with open(\"nameslist.txt\", 'r') as fp:\n",
    "    num_lines = sum(1 for line in fp)\n",
    "    print('Total lines:', num_lines)"
   ]
  },
  {
   "cell_type": "code",
   "execution_count": 1,
   "id": "42a7733c",
   "metadata": {},
   "outputs": [],
   "source": [
    "with open(\"Training_01.txt\",\"r\") as fp:\n",
    "    lines = fp.readlines()"
   ]
  },
  {
   "cell_type": "code",
   "execution_count": null,
   "id": "27f7796d",
   "metadata": {},
   "outputs": [],
   "source": []
  },
  {
   "cell_type": "code",
   "execution_count": 2,
   "id": "e65b4fb5",
   "metadata": {},
   "outputs": [],
   "source": [
    "for count, value in enumerate(lines):\n",
    "    lines[count] = lines[count].split(\"/\")"
   ]
  },
  {
   "cell_type": "code",
   "execution_count": 11,
   "id": "61749f90",
   "metadata": {},
   "outputs": [],
   "source": [
    "lines_folder = [item[2] for item in lines]\n",
    "\n",
    "folder_list = list(dict.fromkeys(lines_folder))\n"
   ]
  },
  {
   "cell_type": "code",
   "execution_count": 18,
   "id": "15dfadb0",
   "metadata": {},
   "outputs": [],
   "source": [
    "counter=[]\n",
    "count=0\n",
    "for folder in folder_list:\n",
    "    for element in lines_folder:\n",
    "        if element==folder:\n",
    "            count = count + 1\n",
    "    counter.append([folder, count])\n",
    "    count = 0"
   ]
  },
  {
   "cell_type": "code",
   "execution_count": 24,
   "id": "97b12e2c",
   "metadata": {},
   "outputs": [],
   "source": []
  },
  {
   "cell_type": "code",
   "execution_count": null,
   "id": "443addf6",
   "metadata": {},
   "outputs": [],
   "source": []
  },
  {
   "cell_type": "code",
   "execution_count": null,
   "id": "70600fc7",
   "metadata": {},
   "outputs": [],
   "source": []
  }
 ],
 "metadata": {
  "kernelspec": {
   "display_name": "Python 3",
   "language": "python",
   "name": "python3"
  },
  "language_info": {
   "codemirror_mode": {
    "name": "ipython",
    "version": 3
   },
   "file_extension": ".py",
   "mimetype": "text/x-python",
   "name": "python",
   "nbconvert_exporter": "python",
   "pygments_lexer": "ipython3",
   "version": "3.8.8"
  }
 },
 "nbformat": 4,
 "nbformat_minor": 5
}
