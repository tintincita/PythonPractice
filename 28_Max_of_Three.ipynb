{
 "cells": [
  {
   "cell_type": "code",
   "execution_count": 7,
   "id": "a60c867a",
   "metadata": {},
   "outputs": [
    {
     "name": "stdout",
     "output_type": "stream",
     "text": [
      "list is :  [69, 100, 33]\n",
      "biggest is  100\n"
     ]
    }
   ],
   "source": [
    "import random\n",
    "\n",
    "list = []\n",
    "\n",
    "for i in range(0,3):\n",
    "    new = random.randint(0,100)\n",
    "    list.append(new)\n",
    "\n",
    "print('list is : ', list)\n",
    "\n",
    "big = list[0]\n",
    "    \n",
    "for aa in list:\n",
    "    if aa > big:\n",
    "        big = aa\n",
    "    \n",
    "print('biggest is ', big)\n"
   ]
  },
  {
   "cell_type": "code",
   "execution_count": null,
   "id": "9dde5309",
   "metadata": {},
   "outputs": [],
   "source": []
  },
  {
   "cell_type": "code",
   "execution_count": 8,
   "id": "4fea3646",
   "metadata": {},
   "outputs": [],
   "source": [
    "def biggest(list):\n",
    "    print('list is : ', list)\n",
    "    big = list[0]\n",
    "    for aa in list:\n",
    "        if aa > big:\n",
    "            big = aa\n",
    "\n",
    "    print('biggest is ', big)\n",
    "    return big"
   ]
  },
  {
   "cell_type": "code",
   "execution_count": 9,
   "id": "d81a7004",
   "metadata": {},
   "outputs": [
    {
     "name": "stdout",
     "output_type": "stream",
     "text": [
      "list is :  [10, 30, 40]\n",
      "biggest is  40\n"
     ]
    },
    {
     "data": {
      "text/plain": [
       "40"
      ]
     },
     "execution_count": 9,
     "metadata": {},
     "output_type": "execute_result"
    }
   ],
   "source": [
    "biggest([10,30,40])"
   ]
  },
  {
   "cell_type": "code",
   "execution_count": null,
   "id": "5eef56d5",
   "metadata": {},
   "outputs": [],
   "source": []
  }
 ],
 "metadata": {
  "kernelspec": {
   "display_name": "Python 3 (ipykernel)",
   "language": "python",
   "name": "python3"
  },
  "language_info": {
   "codemirror_mode": {
    "name": "ipython",
    "version": 3
   },
   "file_extension": ".py",
   "mimetype": "text/x-python",
   "name": "python",
   "nbconvert_exporter": "python",
   "pygments_lexer": "ipython3",
   "version": "3.10.8"
  }
 },
 "nbformat": 4,
 "nbformat_minor": 5
}
