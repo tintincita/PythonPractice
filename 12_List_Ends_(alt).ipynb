{
 "cells": [
  {
   "cell_type": "code",
   "execution_count": 7,
   "id": "b7b6f065",
   "metadata": {},
   "outputs": [
    {
     "name": "stdout",
     "output_type": "stream",
     "text": [
      "Random list is [11, 5, 8, 44, 9, 33, 32, 46, 39, 48, 23, 22, 3, 1, 16, 28, 45, 25, 20, 17, 37]\n",
      "first and last items are: [11, 37]\n"
     ]
    }
   ],
   "source": [
    "import random as rand\n",
    "\n",
    "def get_random_list():\n",
    "    l = list(rand.sample(range(50),rand.randint(2,25)))\n",
    "    print(\"Random list is {}\".format(l))\n",
    "    return l\n",
    "\n",
    "def first_and_last(l):\n",
    "    new = [l[0],l[-1]]\n",
    "    return new\n",
    "\n",
    "x = first_and_last(get_random_list())\n",
    "print(\"first and last items are: {}\".format(x))"
   ]
  },
  {
   "cell_type": "code",
   "execution_count": null,
   "id": "79dcdb8f",
   "metadata": {},
   "outputs": [],
   "source": []
  }
 ],
 "metadata": {
  "kernelspec": {
   "display_name": "Python 3",
   "language": "python",
   "name": "python3"
  },
  "language_info": {
   "codemirror_mode": {
    "name": "ipython",
    "version": 3
   },
   "file_extension": ".py",
   "mimetype": "text/x-python",
   "name": "python",
   "nbconvert_exporter": "python",
   "pygments_lexer": "ipython3",
   "version": "3.8.8"
  }
 },
 "nbformat": 4,
 "nbformat_minor": 5
}
