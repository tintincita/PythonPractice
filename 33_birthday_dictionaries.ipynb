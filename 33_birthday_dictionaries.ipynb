{
 "cells": [
  {
   "cell_type": "code",
   "execution_count": 13,
   "id": "4f1bb239",
   "metadata": {},
   "outputs": [
    {
     "name": "stdout",
     "output_type": "stream",
     "text": [
      "<class 'datetime.datetime'>\n",
      "05/17/20\n",
      "['Ana', 'Bilbo', 'Charlie', 'Didier', 'Eduardo', 'Felipe']\n",
      "who you wanna lookup? Di\n",
      "dunno who dat is\n"
     ]
    }
   ],
   "source": [
    "import datetime\n",
    "\n",
    "bd_dict = {\n",
    "    \"Ana\": datetime.datetime(2020, 5, 17),\n",
    "\n",
    "    \"Bilbo\": datetime.datetime(1920, 1, 1),\n",
    "    \n",
    "    \"Charlie\": datetime.datetime(1990, 2, 2),\n",
    "    \n",
    "    \"Didier\": datetime.datetime(2000, 5, 5),\n",
    "    \n",
    "    \"Eduardo\": datetime.datetime(1995, 4, 4),\n",
    "    \n",
    "    \"Felipe\": datetime.datetime(1985, 5, 5),\n",
    "}\n",
    "\n",
    "\n",
    "print(type(bd_dict[\"Ana\"]))\n",
    "print(bd_dict[\"Ana\"].strftime(\"%x\"))\n",
    "print(list(bd_dict.keys()))\n",
    "\n",
    "lookup_name = input(\"who you wanna lookup? \")\n",
    "print(bd_dict.get(lookup_name, \"dunno who dat is\"))"
   ]
  },
  {
   "cell_type": "code",
   "execution_count": null,
   "id": "a98d3c84",
   "metadata": {},
   "outputs": [],
   "source": []
  }
 ],
 "metadata": {
  "kernelspec": {
   "display_name": "Python 3 (ipykernel)",
   "language": "python",
   "name": "python3"
  },
  "language_info": {
   "codemirror_mode": {
    "name": "ipython",
    "version": 3
   },
   "file_extension": ".py",
   "mimetype": "text/x-python",
   "name": "python",
   "nbconvert_exporter": "python",
   "pygments_lexer": "ipython3",
   "version": "3.10.8"
  }
 },
 "nbformat": 4,
 "nbformat_minor": 5
}
