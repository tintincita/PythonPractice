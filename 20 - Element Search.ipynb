{
 "cells": [
  {
   "cell_type": "code",
   "execution_count": 2,
   "id": "514dd816",
   "metadata": {},
   "outputs": [],
   "source": []
  },
  {
   "cell_type": "code",
   "execution_count": 24,
   "id": "8384b9b8",
   "metadata": {},
   "outputs": [],
   "source": [
    "def is_it_in(given_list,number):\n",
    "    if number in given_list:\n",
    "        return True\n",
    "    else:\n",
    "        return False\n",
    "\n",
    "def equality_is_it_in(given_list,num):\n",
    "    for i in given_list:\n",
    "        if i == num:\n",
    "            return True\n",
    "    return False    \n",
    "\n",
    "def binary_is_it_in(given_list,num):\n",
    "    a = len(given_list) // 2\n",
    "    \n",
    "    if num == given_list[a]:\n",
    "        return True\n",
    "    elif num < given_list[a]:\n",
    "        new_list = given_list[0:a]\n",
    "    else:\n",
    "        new_list = given_list[a:2*a-1]\n",
    "    if a <= 1:\n",
    "        return False\n",
    "    else:\n",
    "        return binary_is_it_in(new_list,num)"
   ]
  },
  {
   "cell_type": "code",
   "execution_count": 5,
   "id": "01272a51",
   "metadata": {},
   "outputs": [
    {
     "data": {
      "text/plain": [
       "False"
      ]
     },
     "execution_count": 5,
     "metadata": {},
     "output_type": "execute_result"
    }
   ],
   "source": [
    "a = [0,10,20,33,44,59,78,100]\n",
    "is_it_in(a,220)"
   ]
  },
  {
   "cell_type": "code",
   "execution_count": 22,
   "id": "bda51031",
   "metadata": {},
   "outputs": [
    {
     "data": {
      "text/plain": [
       "False"
      ]
     },
     "execution_count": 22,
     "metadata": {},
     "output_type": "execute_result"
    }
   ],
   "source": [
    "binary_is_it_in(a,1000)"
   ]
  },
  {
   "cell_type": "code",
   "execution_count": 26,
   "id": "f922f21e",
   "metadata": {},
   "outputs": [
    {
     "data": {
      "text/plain": [
       "False"
      ]
     },
     "execution_count": 26,
     "metadata": {},
     "output_type": "execute_result"
    }
   ],
   "source": [
    "equality_is_it_in(a,1000)"
   ]
  },
  {
   "cell_type": "code",
   "execution_count": null,
   "id": "fa4fa09a",
   "metadata": {},
   "outputs": [],
   "source": []
  },
  {
   "cell_type": "code",
   "execution_count": null,
   "id": "06254172",
   "metadata": {},
   "outputs": [],
   "source": []
  }
 ],
 "metadata": {
  "kernelspec": {
   "display_name": "Python 3",
   "language": "python",
   "name": "python3"
  },
  "language_info": {
   "codemirror_mode": {
    "name": "ipython",
    "version": 3
   },
   "file_extension": ".py",
   "mimetype": "text/x-python",
   "name": "python",
   "nbconvert_exporter": "python",
   "pygments_lexer": "ipython3",
   "version": "3.8.8"
  }
 },
 "nbformat": 4,
 "nbformat_minor": 5
}
