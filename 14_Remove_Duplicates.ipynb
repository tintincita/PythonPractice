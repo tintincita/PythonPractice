{
 "cells": [
  {
   "cell_type": "code",
   "execution_count": 2,
   "id": "3785409f",
   "metadata": {},
   "outputs": [],
   "source": [
    "import random"
   ]
  },
  {
   "cell_type": "code",
   "execution_count": 39,
   "id": "84aebf3d",
   "metadata": {},
   "outputs": [
    {
     "name": "stdout",
     "output_type": "stream",
     "text": [
      "[77, 100, 26, 39, 88, 50, 49, 93, 11, 60, 40, 88, 49, 88]\n"
     ]
    }
   ],
   "source": [
    "len_a = random.randint(1,20)\n",
    "\n",
    "a = []\n",
    "\n",
    "for i in range(0,len_a):\n",
    "    new = random.randint(0,100)\n",
    "    a.append(new)\n",
    "print(a)"
   ]
  },
  {
   "cell_type": "code",
   "execution_count": 42,
   "id": "0102fd6c",
   "metadata": {},
   "outputs": [
    {
     "name": "stdout",
     "output_type": "stream",
     "text": [
      "[77, 100, 26, 39, 88, 50, 49, 93, 11, 60, 40]\n",
      "there were 3 duplicates\n",
      "{100, 39, 40, 11, 77, 49, 50, 88, 26, 60, 93}\n"
     ]
    }
   ],
   "source": [
    "clean_list = []\n",
    "#clean_list = [aa for aa in a if aa in clean_list]\n",
    "clean_list.append(a[0])\n",
    "i=0\n",
    "while i < len(a):\n",
    "    if a[i] in clean_list:\n",
    "        i = i + 1\n",
    "    else:\n",
    "        clean_list.append(a[i])\n",
    "        i = i + 1\n",
    "\n",
    "print(clean_list)\n",
    "duplicates = len(a)-len(clean_list)\n",
    "print(\"there were\",duplicates,\"duplicates\")\n",
    "\n",
    "set_from_list = set (a)\n",
    "print(set_from_list)"
   ]
  },
  {
   "cell_type": "code",
   "execution_count": 26,
   "id": "804f2c87",
   "metadata": {},
   "outputs": [],
   "source": [
    "a = [0,1,1,10,10,5,7,8]"
   ]
  },
  {
   "cell_type": "code",
   "execution_count": 47,
   "id": "93cf8804",
   "metadata": {},
   "outputs": [],
   "source": [
    "#alt\n",
    "\n",
    "def removeDuplicates(aList):\n",
    "    newList = []\n",
    "    for i in aList:\n",
    "        if i not in newList:\n",
    "            newList.append(i)\n",
    "\n",
    "    return newList\n",
    "\n"
   ]
  },
  {
   "cell_type": "code",
   "execution_count": 48,
   "id": "ab699a3a",
   "metadata": {},
   "outputs": [
    {
     "name": "stdout",
     "output_type": "stream",
     "text": [
      "[77, 100, 26, 39, 88, 50, 49, 93, 11, 60, 40]\n"
     ]
    }
   ],
   "source": [
    "dup = removeDuplicates(a)\n",
    "print(dup)"
   ]
  },
  {
   "cell_type": "code",
   "execution_count": null,
   "id": "b0ec4135",
   "metadata": {},
   "outputs": [],
   "source": []
  }
 ],
 "metadata": {
  "kernelspec": {
   "display_name": "Python 3",
   "language": "python",
   "name": "python3"
  },
  "language_info": {
   "codemirror_mode": {
    "name": "ipython",
    "version": 3
   },
   "file_extension": ".py",
   "mimetype": "text/x-python",
   "name": "python",
   "nbconvert_exporter": "python",
   "pygments_lexer": "ipython3",
   "version": "3.8.8"
  }
 },
 "nbformat": 4,
 "nbformat_minor": 5
}
