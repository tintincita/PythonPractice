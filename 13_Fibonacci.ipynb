{
 "cells": [
  {
   "cell_type": "code",
   "execution_count": 3,
   "id": "bc2eff8e",
   "metadata": {},
   "outputs": [],
   "source": [
    "def fibonacci(n):\n",
    "    fibo = [0,1]\n",
    "    count = 1\n",
    "    while count < n - 1:\n",
    "        new = fibo[count] + fibo[count-1]\n",
    "        fibo.append(new)\n",
    "        count = count + 1\n",
    "    return fibo"
   ]
  },
  {
   "cell_type": "code",
   "execution_count": 6,
   "id": "22c43a37",
   "metadata": {},
   "outputs": [
    {
     "name": "stdout",
     "output_type": "stream",
     "text": [
      "[0, 1, 1, 2, 3, 5, 8, 13, 21, 34, 55, 89, 144, 233, 377, 610, 987, 1597, 2584, 4181, 6765, 10946, 17711, 28657, 46368, 75025, 121393, 196418, 317811, 514229, 832040, 1346269, 2178309, 3524578, 5702887, 9227465, 14930352, 24157817, 39088169, 63245986, 102334155, 165580141, 267914296, 433494437, 701408733, 1134903170, 1836311903, 2971215073, 4807526976, 7778742049]\n"
     ]
    }
   ],
   "source": [
    "my_list = fibonacci(50)\n",
    "print(my_list)"
   ]
  },
  {
   "cell_type": "code",
   "execution_count": null,
   "id": "9278ca10",
   "metadata": {},
   "outputs": [],
   "source": [
    "#alt\n",
    "a=int(input('Please input number: '))\n",
    "if a==1:\n",
    "    b=[1]\n",
    "elif a!=1:\n",
    "    b=[1,1]\n",
    "    for i in b:\n",
    "        if len(b)<a:\n",
    "            i=b[-1]+b[-2]\n",
    "            b.append(i)\n",
    "print(b)"
   ]
  }
 ],
 "metadata": {
  "kernelspec": {
   "display_name": "Python 3",
   "language": "python",
   "name": "python3"
  },
  "language_info": {
   "codemirror_mode": {
    "name": "ipython",
    "version": 3
   },
   "file_extension": ".py",
   "mimetype": "text/x-python",
   "name": "python",
   "nbconvert_exporter": "python",
   "pygments_lexer": "ipython3",
   "version": "3.8.8"
  }
 },
 "nbformat": 4,
 "nbformat_minor": 5
}
