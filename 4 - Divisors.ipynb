{
 "cells": [
  {
   "cell_type": "code",
   "execution_count": 1,
   "id": "7c5bf6fa",
   "metadata": {},
   "outputs": [
    {
     "name": "stdout",
     "output_type": "stream",
     "text": [
      "Give me a number: 999\n",
      "Divisors of 999 are \n",
      "[3, 9, 27, 37, 111, 333]\n"
     ]
    }
   ],
   "source": [
    "number = int(input(\"Give me a number: \"))\n",
    "divisor_list=[]\n",
    "\n",
    "for i in range( 2 , number):\n",
    "    if number%i == 0 :\n",
    "        divisor_list.append(i)\n",
    "        \n",
    "print(\"Divisors of \" + str(number) + \" are \")\n",
    "print(divisor_list)"
   ]
  },
  {
   "cell_type": "code",
   "execution_count": null,
   "id": "9b59c577",
   "metadata": {},
   "outputs": [],
   "source": []
  }
 ],
 "metadata": {
  "kernelspec": {
   "display_name": "Python 3",
   "language": "python",
   "name": "python3"
  },
  "language_info": {
   "codemirror_mode": {
    "name": "ipython",
    "version": 3
   },
   "file_extension": ".py",
   "mimetype": "text/x-python",
   "name": "python",
   "nbconvert_exporter": "python",
   "pygments_lexer": "ipython3",
   "version": "3.8.8"
  }
 },
 "nbformat": 4,
 "nbformat_minor": 5
}
