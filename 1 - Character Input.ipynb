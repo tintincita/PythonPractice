{
 "cells": [
  {
   "cell_type": "code",
   "execution_count": 9,
   "id": "a59a49fe",
   "metadata": {},
   "outputs": [
    {
     "name": "stdout",
     "output_type": "stream",
     "text": [
      "What's your name? U\n",
      "Hi there U\n",
      "How old are you? 99\n",
      "You'll be 100 years old on 2022\n"
     ]
    }
   ],
   "source": [
    "import datetime\n",
    "\n",
    "name = input(\"What's your name? \")\n",
    "print(\"Hi there \"+ name)\n",
    "\n",
    "\n",
    "age = int(input(\"How old are you? \"))\n",
    "\n",
    "date = datetime.date.today()\n",
    "year = date.strftime(\"%Y\")\n",
    "\n",
    "target_year = 100 - int(age) + int(year)\n",
    "\n",
    "print(\"You'll be 100 years old on \" + str(target_year))"
   ]
  },
  {
   "cell_type": "code",
   "execution_count": null,
   "id": "828f6158",
   "metadata": {},
   "outputs": [],
   "source": []
  }
 ],
 "metadata": {
  "kernelspec": {
   "display_name": "Python 3",
   "language": "python",
   "name": "python3"
  },
  "language_info": {
   "codemirror_mode": {
    "name": "ipython",
    "version": 3
   },
   "file_extension": ".py",
   "mimetype": "text/x-python",
   "name": "python",
   "nbconvert_exporter": "python",
   "pygments_lexer": "ipython3",
   "version": "3.8.8"
  }
 },
 "nbformat": 4,
 "nbformat_minor": 5
}
