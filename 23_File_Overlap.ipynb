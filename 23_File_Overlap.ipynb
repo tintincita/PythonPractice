{
 "cells": [
  {
   "cell_type": "code",
   "execution_count": 9,
   "id": "c02d748e",
   "metadata": {},
   "outputs": [],
   "source": []
  },
  {
   "cell_type": "code",
   "execution_count": 42,
   "id": "c2dff3ec",
   "metadata": {},
   "outputs": [],
   "source": [
    "def file_to_list(filename):\n",
    "    with open(filename,'r', newline=\"\\n\") as file:\n",
    "        lines = file.readlines()\n",
    "        numbers = []\n",
    "    \n",
    "        for line in lines:\n",
    "            text = str(line)\n",
    "            text = text.strip(\"\\n\")\n",
    "            text = text.strip()\n",
    "            num = int(text)\n",
    "            numbers.append(num)\n",
    "            \n",
    "        return numbers"
   ]
  },
  {
   "cell_type": "code",
   "execution_count": 43,
   "id": "28e35e26",
   "metadata": {},
   "outputs": [],
   "source": [
    "a = \"primenumbers.txt\"\n",
    "b = \"happynumbers.txt\""
   ]
  },
  {
   "cell_type": "code",
   "execution_count": 44,
   "id": "12324b65",
   "metadata": {},
   "outputs": [],
   "source": [
    "primes = file_to_list(a)\n",
    "happy = file_to_list(b)"
   ]
  },
  {
   "cell_type": "code",
   "execution_count": 45,
   "id": "c30f904f",
   "metadata": {},
   "outputs": [],
   "source": [
    "\n",
    "common = ([aa for aa in primes if aa in happy])\n",
    "common = list(dict.fromkeys(common))"
   ]
  },
  {
   "cell_type": "code",
   "execution_count": 46,
   "id": "2d1c73b5",
   "metadata": {},
   "outputs": [
    {
     "name": "stdout",
     "output_type": "stream",
     "text": [
      "numbers that are both happy; prime and under 1000:\n",
      "[7, 13, 19, 23, 31, 79, 97, 103, 109, 139, 167, 193, 239, 263, 293, 313, 331, 367, 379, 383, 397, 409, 487, 563, 617, 653, 673, 683, 709, 739, 761, 863, 881, 907, 937]\n"
     ]
    }
   ],
   "source": [
    "print(\"numbers that are both happy; prime and under 1000:\")\n",
    "print(common)"
   ]
  },
  {
   "cell_type": "code",
   "execution_count": null,
   "id": "75fff21d",
   "metadata": {},
   "outputs": [],
   "source": []
  }
 ],
 "metadata": {
  "kernelspec": {
   "display_name": "Python 3",
   "language": "python",
   "name": "python3"
  },
  "language_info": {
   "codemirror_mode": {
    "name": "ipython",
    "version": 3
   },
   "file_extension": ".py",
   "mimetype": "text/x-python",
   "name": "python",
   "nbconvert_exporter": "python",
   "pygments_lexer": "ipython3",
   "version": "3.8.8"
  }
 },
 "nbformat": 4,
 "nbformat_minor": 5
}
