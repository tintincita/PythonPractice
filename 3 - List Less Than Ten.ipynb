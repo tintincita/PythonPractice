{
 "cells": [
  {
   "cell_type": "code",
   "execution_count": 10,
   "id": "4bb4e4ea",
   "metadata": {},
   "outputs": [
    {
     "name": "stdout",
     "output_type": "stream",
     "text": [
      "[1, 1, 2, 3]\n"
     ]
    }
   ],
   "source": [
    "a = [1,1,2,3,5,13,21,34,55,89]\n",
    "a_small = []\n",
    "\n",
    "for i in a:\n",
    "    \n",
    "    if i < 5 :\n",
    "        a_small.append(i)\n",
    "        \n",
    "print(a_small)"
   ]
  },
  {
   "cell_type": "code",
   "execution_count": 9,
   "id": "8c5407a4",
   "metadata": {},
   "outputs": [
    {
     "data": {
      "text/plain": [
       "[1, 1, 2, 3]"
      ]
     },
     "execution_count": 9,
     "metadata": {},
     "output_type": "execute_result"
    }
   ],
   "source": []
  },
  {
   "cell_type": "code",
   "execution_count": 5,
   "id": "6c497a96",
   "metadata": {},
   "outputs": [
    {
     "name": "stdout",
     "output_type": "stream",
     "text": [
      "[1, 1, 2, 3]\n"
     ]
    }
   ],
   "source": [
    "print([aa for aa in a if aa < 5])"
   ]
  },
  {
   "cell_type": "code",
   "execution_count": null,
   "id": "f9c4a15d",
   "metadata": {},
   "outputs": [],
   "source": []
  }
 ],
 "metadata": {
  "kernelspec": {
   "display_name": "Python 3",
   "language": "python",
   "name": "python3"
  },
  "language_info": {
   "codemirror_mode": {
    "name": "ipython",
    "version": 3
   },
   "file_extension": ".py",
   "mimetype": "text/x-python",
   "name": "python",
   "nbconvert_exporter": "python",
   "pygments_lexer": "ipython3",
   "version": "3.8.8"
  }
 },
 "nbformat": 4,
 "nbformat_minor": 5
}
