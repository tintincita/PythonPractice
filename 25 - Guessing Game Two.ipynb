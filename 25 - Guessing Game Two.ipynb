{
 "cells": [
  {
   "cell_type": "code",
   "execution_count": 1,
   "id": "2f06d41a",
   "metadata": {},
   "outputs": [],
   "source": [
    "import random as rnd"
   ]
  },
  {
   "cell_type": "code",
   "execution_count": 8,
   "id": "dc6b3578",
   "metadata": {},
   "outputs": [],
   "source": [
    "def guess(possibles):\n",
    "    guess = rnd.choice(possibles)\n",
    "    print(\"Is it \",guess,\"?\")\n",
    "    answer = input(\"y/n \")\n",
    "    if answer == \"y\":\n",
    "        print(\"yeehaaa!\")\n",
    "        possibles = []\n",
    "    else:\n",
    "        answer2 = input(\"is the number higher or lower (h/l) ?\")\n",
    "        if answer2 == \"h\":\n",
    "            possibles = range(guess+1,max(possibles)+1)\n",
    "            if len(possibles)==1:\n",
    "                print(\"it's \",guess+1,\". yeehaa!\")\n",
    "                possibles = []\n",
    "        elif answer2 == \"l\":\n",
    "            possibles = range(min(possibles),guess)\n",
    "            if len(possibles)==1:\n",
    "                print(\"it's \",guess-1,\". yeehaa!\")\n",
    "                possibles =[]\n",
    "    return possibles"
   ]
  },
  {
   "cell_type": "code",
   "execution_count": 16,
   "id": "78b6a6b3",
   "metadata": {},
   "outputs": [
    {
     "name": "stdout",
     "output_type": "stream",
     "text": [
      "Think of a number, I will try to guess it\n",
      "\n",
      "Is it  50 ?\n",
      "y/n n\n",
      "is the number higher or lower (h/l) ?h\n",
      "possibles: range(51, 101). length: 50\n",
      "Is it  89 ?\n",
      "y/n n\n",
      "is the number higher or lower (h/l) ?l\n",
      "possibles: range(51, 89). length: 38\n",
      "Is it  55 ?\n",
      "y/n n\n",
      "is the number higher or lower (h/l) ?h\n",
      "possibles: range(56, 89). length: 33\n",
      "Is it  62 ?\n",
      "y/n n\n",
      "is the number higher or lower (h/l) ?l\n",
      "possibles: range(56, 62). length: 6\n",
      "Is it  56 ?\n",
      "y/n n\n",
      "is the number higher or lower (h/l) ?h\n",
      "possibles: range(57, 62). length: 5\n",
      "Is it  61 ?\n",
      "y/n n\n",
      "is the number higher or lower (h/l) ?l\n",
      "possibles: range(57, 61). length: 4\n",
      "Is it  58 ?\n",
      "y/n n\n",
      "is the number higher or lower (h/l) ?h\n",
      "possibles: range(59, 61). length: 2\n",
      "Is it  60 ?\n",
      "y/n n\n",
      "is the number higher or lower (h/l) ?l\n",
      "it's  59 . yeehaa!\n",
      "possibles: []. length: 0\n"
     ]
    }
   ],
   "source": [
    "print(\"Think of a number, I will try to guess it\\n\")\n",
    "possibles = range(0,101)\n",
    "\n",
    "while len(possibles)>=2 :\n",
    "    possibles = guess(possibles)\n",
    "    print(\"possibles: \"+str(possibles)+\". length: \"+str(len(possibles)))"
   ]
  },
  {
   "cell_type": "code",
   "execution_count": null,
   "id": "bca39639",
   "metadata": {},
   "outputs": [],
   "source": [
    "#list(range(82,88))"
   ]
  },
  {
   "cell_type": "code",
   "execution_count": null,
   "id": "4f27fa02",
   "metadata": {},
   "outputs": [],
   "source": []
  },
  {
   "cell_type": "code",
   "execution_count": null,
   "id": "075a3e21",
   "metadata": {},
   "outputs": [],
   "source": []
  }
 ],
 "metadata": {
  "kernelspec": {
   "display_name": "Python 3",
   "language": "python",
   "name": "python3"
  },
  "language_info": {
   "codemirror_mode": {
    "name": "ipython",
    "version": 3
   },
   "file_extension": ".py",
   "mimetype": "text/x-python",
   "name": "python",
   "nbconvert_exporter": "python",
   "pygments_lexer": "ipython3",
   "version": "3.8.8"
  }
 },
 "nbformat": 4,
 "nbformat_minor": 5
}
