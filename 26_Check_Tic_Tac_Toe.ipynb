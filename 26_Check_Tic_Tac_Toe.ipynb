{
 "cells": [
  {
   "cell_type": "code",
   "execution_count": 62,
   "id": "a8cce274",
   "metadata": {},
   "outputs": [],
   "source": []
  },
  {
   "cell_type": "code",
   "execution_count": 122,
   "id": "e72e77e6",
   "metadata": {},
   "outputs": [],
   "source": [
    "def possible_wins(game):\n",
    "    possible_lines=[]\n",
    "    for i in range(0,3):\n",
    "        possible_lines.append(game[i])\n",
    "        new_line = []\n",
    "        for j in range (0,3):\n",
    "            new_line.append(game[j][i])\n",
    "        possible_lines.append(new_line)\n",
    "        diagonal = []\n",
    "        inv_diagonal = []\n",
    "        for h in range(0,3):\n",
    "            diagonal.append(game[h][h])\n",
    "            inv_diagonal.append(game[h][-1-h])\n",
    "        possible_lines.append(diagonal)\n",
    "        possible_lines.append(inv_diagonal)\n",
    "    return possible_lines\n",
    "\n",
    "def games_of_three(game):\n",
    "    basegame = []\n",
    "    game_small = []\n",
    "\n",
    "    for i in range (0,len(game)-2):\n",
    "        for j in range (0,len(game)-2):\n",
    "            #print(i,j)\n",
    "            newgame=game[i][j:j+3]\n",
    "            basegame.append(newgame)\n",
    "            newgame=game[i+1][j:j+3]\n",
    "            basegame.append(newgame)\n",
    "            newgame=game[i+2][j:j+3]\n",
    "            basegame.append(newgame)\n",
    "            game_small.append(basegame)\n",
    "            basegame = []\n",
    "    return game_small\n",
    "\n",
    "def winner(game,n_players=2):\n",
    "    for i in [1,n_players+1]:\n",
    "        compare = [i,i,i]\n",
    "        if compare in possible_wins(game):\n",
    "            return i\n",
    "    return 0\n",
    "    "
   ]
  },
  {
   "cell_type": "code",
   "execution_count": 118,
   "id": "9a9906f2",
   "metadata": {},
   "outputs": [
    {
     "data": {
      "text/plain": [
       "1"
      ]
     },
     "execution_count": 118,
     "metadata": {},
     "output_type": "execute_result"
    }
   ],
   "source": [
    "game = [[2, 1, 0], [2, 1, 1], [2, 1, 1]]\n",
    "winner(game)"
   ]
  },
  {
   "cell_type": "code",
   "execution_count": 135,
   "id": "4279215e",
   "metadata": {},
   "outputs": [
    {
     "ename": "AttributeError",
     "evalue": "'list' object has no attribute 'tolist'",
     "output_type": "error",
     "traceback": [
      "\u001b[0;31m---------------------------------------------------------------------------\u001b[0m",
      "\u001b[0;31mAttributeError\u001b[0m                            Traceback (most recent call last)",
      "\u001b[0;32m<ipython-input-135-95de7836fbb7>\u001b[0m in \u001b[0;36m<module>\u001b[0;34m\u001b[0m\n\u001b[1;32m      2\u001b[0m \u001b[0;34m\u001b[0m\u001b[0m\n\u001b[1;32m      3\u001b[0m \u001b[0mgame\u001b[0m \u001b[0;34m=\u001b[0m \u001b[0;34m[\u001b[0m\u001b[0;34m[\u001b[0m\u001b[0;36m1\u001b[0m\u001b[0;34m,\u001b[0m \u001b[0;36m2\u001b[0m\u001b[0;34m,\u001b[0m \u001b[0;36m3\u001b[0m\u001b[0;34m,\u001b[0m \u001b[0;36m4\u001b[0m\u001b[0;34m]\u001b[0m\u001b[0;34m,\u001b[0m \u001b[0;34m[\u001b[0m\u001b[0;36m5\u001b[0m\u001b[0;34m,\u001b[0m \u001b[0;36m6\u001b[0m\u001b[0;34m,\u001b[0m \u001b[0;36m7\u001b[0m\u001b[0;34m,\u001b[0m \u001b[0;36m8\u001b[0m\u001b[0;34m]\u001b[0m\u001b[0;34m,\u001b[0m \u001b[0;34m[\u001b[0m\u001b[0;36m9\u001b[0m\u001b[0;34m,\u001b[0m \u001b[0;36m10\u001b[0m\u001b[0;34m,\u001b[0m \u001b[0;36m11\u001b[0m\u001b[0;34m,\u001b[0m \u001b[0;36m12\u001b[0m\u001b[0;34m]\u001b[0m\u001b[0;34m,\u001b[0m \u001b[0;34m[\u001b[0m\u001b[0;36m13\u001b[0m\u001b[0;34m,\u001b[0m \u001b[0;36m14\u001b[0m\u001b[0;34m,\u001b[0m \u001b[0;36m15\u001b[0m\u001b[0;34m,\u001b[0m \u001b[0;36m16\u001b[0m\u001b[0;34m]\u001b[0m\u001b[0;34m]\u001b[0m\u001b[0;34m\u001b[0m\u001b[0;34m\u001b[0m\u001b[0m\n\u001b[0;32m----> 4\u001b[0;31m \u001b[0mcheck\u001b[0m \u001b[0;34m=\u001b[0m \u001b[0mpossible_wins\u001b[0m\u001b[0;34m(\u001b[0m\u001b[0mgames_of_three\u001b[0m\u001b[0;34m(\u001b[0m\u001b[0mgame\u001b[0m\u001b[0;34m)\u001b[0m\u001b[0;34m)\u001b[0m\u001b[0;34m.\u001b[0m\u001b[0mtolist\u001b[0m\u001b[0;34m(\u001b[0m\u001b[0;34m)\u001b[0m\u001b[0;34m\u001b[0m\u001b[0;34m\u001b[0m\u001b[0m\n\u001b[0m",
      "\u001b[0;31mAttributeError\u001b[0m: 'list' object has no attribute 'tolist'"
     ]
    }
   ],
   "source": [
    "from array import *\n",
    "\n",
    "game = [[1, 2, 3, 4], [5, 6, 7, 8], [9, 10, 11, 12], [13, 14, 15, 16]]\n",
    "check = possible_wins(games_of_three(game)).tolist()"
   ]
  },
  {
   "cell_type": "code",
   "execution_count": 125,
   "id": "5b36fba7",
   "metadata": {},
   "outputs": [],
   "source": [
    "def multiwinner(game,n_players=2):\n",
    "    for i in [1,n_players+1]:\n",
    "        compare = [i,i,i]\n",
    "        check = games_of_three(game)\n",
    "        for j in [0,1]:\n",
    "            if compare in possible_wins(check[j]):\n",
    "                return i\n",
    "    return 0\n",
    "    "
   ]
  },
  {
   "cell_type": "code",
   "execution_count": 56,
   "id": "dee2bb4a",
   "metadata": {},
   "outputs": [
    {
     "data": {
      "text/plain": [
       "[[1, 2, 3],\n",
       " [1, 5, 9],\n",
       " [],\n",
       " [],\n",
       " [5, 6, 7],\n",
       " [2, 6, 10],\n",
       " [],\n",
       " [],\n",
       " [9, 10, 11],\n",
       " [3, 7, 11],\n",
       " [],\n",
       " [],\n",
       " [6, 7, 8],\n",
       " [6, 10, 14],\n",
       " [],\n",
       " [],\n",
       " [10, 11, 12],\n",
       " [7, 11, 15],\n",
       " [],\n",
       " [],\n",
       " [14, 15, 16],\n",
       " [8, 12, 16],\n",
       " [],\n",
       " []]"
      ]
     },
     "execution_count": 56,
     "metadata": {},
     "output_type": "execute_result"
    }
   ],
   "source": [
    "possible_wins(game)"
   ]
  },
  {
   "cell_type": "code",
   "execution_count": 52,
   "id": "ec7e1e48",
   "metadata": {},
   "outputs": [
    {
     "data": {
      "text/plain": [
       "24"
      ]
     },
     "execution_count": 52,
     "metadata": {},
     "output_type": "execute_result"
    }
   ],
   "source": []
  },
  {
   "cell_type": "code",
   "execution_count": 34,
   "id": "a9ee7918",
   "metadata": {},
   "outputs": [],
   "source": []
  },
  {
   "cell_type": "code",
   "execution_count": 35,
   "id": "547d58c5",
   "metadata": {},
   "outputs": [
    {
     "data": {
      "text/plain": [
       "[0]"
      ]
     },
     "execution_count": 35,
     "metadata": {},
     "output_type": "execute_result"
    }
   ],
   "source": []
  },
  {
   "cell_type": "code",
   "execution_count": 50,
   "id": "d46bb5c0",
   "metadata": {},
   "outputs": [],
   "source": [
    "game = [[1, 2, 3, 4], [5, 6, 7, 8], [9, 10, 11, 12], [13, 14, 15, 16]]"
   ]
  },
  {
   "cell_type": "code",
   "execution_count": 44,
   "id": "4b7e066f",
   "metadata": {},
   "outputs": [
    {
     "data": {
      "text/plain": [
       "[0, 1, 0, 0]"
      ]
     },
     "execution_count": 44,
     "metadata": {},
     "output_type": "execute_result"
    }
   ],
   "source": [
    "game[0]"
   ]
  },
  {
   "cell_type": "code",
   "execution_count": 45,
   "id": "b167a9be",
   "metadata": {},
   "outputs": [
    {
     "data": {
      "text/plain": [
       "[0, 1, 0]"
      ]
     },
     "execution_count": 45,
     "metadata": {},
     "output_type": "execute_result"
    }
   ],
   "source": [
    "game[0][0:3]"
   ]
  },
  {
   "cell_type": "code",
   "execution_count": 52,
   "id": "13c8071f",
   "metadata": {},
   "outputs": [
    {
     "data": {
      "text/plain": [
       "[[1, 1, 1], [2, 2, 2]]"
      ]
     },
     "execution_count": 52,
     "metadata": {},
     "output_type": "execute_result"
    }
   ],
   "source": []
  },
  {
   "cell_type": "code",
   "execution_count": 53,
   "id": "37d30a04",
   "metadata": {},
   "outputs": [],
   "source": []
  },
  {
   "cell_type": "code",
   "execution_count": 54,
   "id": "d870638d",
   "metadata": {},
   "outputs": [
    {
     "data": {
      "text/plain": [
       "[2, 2, 2]"
      ]
     },
     "execution_count": 54,
     "metadata": {},
     "output_type": "execute_result"
    }
   ],
   "source": []
  },
  {
   "cell_type": "code",
   "execution_count": 57,
   "id": "68b5fec5",
   "metadata": {},
   "outputs": [],
   "source": [
    "def possible_wins(game):\n",
    "    possible_lines=[]\n",
    "    for i in range(0,len(game)):\n",
    "        possible_lines.append(game[i])\n",
    "        new_line = []\n",
    "        for j in range (0,len(game)):\n",
    "            new_line.append(game[j][i])\n",
    "        possible_lines.append(new_line)\n",
    "        diagonal = []\n",
    "        inv_diagonal = []\n",
    "        for h in range(0,len(game)):\n",
    "            diagonal.append(game[h][h])\n",
    "            inv_diagonal.append(game[h][-1-h])\n",
    "        possible_lines.append(diagonal)\n",
    "        possible_lines.append(inv_diagonal)\n",
    "    return possible_lines\n",
    "\n",
    "def games_of_three(game):\n",
    "    basegame = []\n",
    "    game_small = []\n",
    "\n",
    "    for i in range (0,len(game)-2):\n",
    "        for j in range (0,len(game)-2):\n",
    "            #print(i,j)\n",
    "            newgame=game[i][j:j+3]\n",
    "            basegame.append(newgame)\n",
    "            newgame=game[i+1][j:j+3]\n",
    "            basegame.append(newgame)\n",
    "            newgame=game[i+2][j:j+3]\n",
    "            basegame.append(newgame)\n",
    "            game_small.append(basegame)\n",
    "            basegame = []\n",
    "    return game_small\n",
    "\n"
   ]
  },
  {
   "cell_type": "code",
   "execution_count": 90,
   "id": "5b0970cb",
   "metadata": {},
   "outputs": [
    {
     "name": "stdout",
     "output_type": "stream",
     "text": [
      "[[[1, 2, 3], [5, 6, 7], [9, 10, 11]], [[2, 3, 4], [6, 7, 8], [10, 11, 12]], [[5, 6, 7], [9, 10, 11], [13, 14, 15]], [[6, 7, 8], [10, 11, 12], [14, 15, 16]]]\n"
     ]
    }
   ],
   "source": []
  },
  {
   "cell_type": "code",
   "execution_count": 91,
   "id": "614ab6bc",
   "metadata": {},
   "outputs": [],
   "source": []
  },
  {
   "cell_type": "code",
   "execution_count": null,
   "id": "db1b0af9",
   "metadata": {},
   "outputs": [],
   "source": []
  },
  {
   "cell_type": "code",
   "execution_count": null,
   "id": "0b23a0a7",
   "metadata": {},
   "outputs": [],
   "source": []
  },
  {
   "cell_type": "code",
   "execution_count": null,
   "id": "5010ca3d",
   "metadata": {},
   "outputs": [],
   "source": []
  }
 ],
 "metadata": {
  "kernelspec": {
   "display_name": "Python 3",
   "language": "python",
   "name": "python3"
  },
  "language_info": {
   "codemirror_mode": {
    "name": "ipython",
    "version": 3
   },
   "file_extension": ".py",
   "mimetype": "text/x-python",
   "name": "python",
   "nbconvert_exporter": "python",
   "pygments_lexer": "ipython3",
   "version": "3.8.8"
  }
 },
 "nbformat": 4,
 "nbformat_minor": 5
}
