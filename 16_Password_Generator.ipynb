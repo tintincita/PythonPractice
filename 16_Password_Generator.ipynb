{
 "cells": [
  {
   "cell_type": "code",
   "execution_count": 18,
   "id": "6335ff85",
   "metadata": {},
   "outputs": [
    {
     "name": "stdout",
     "output_type": "stream",
     "text": [
      "648q8wpu962s788Z 16\n"
     ]
    }
   ],
   "source": [
    "import random\n",
    " \n",
    "random_string = ''\n",
    " \n",
    "number_of_letters = random.randint(1,15)\n",
    "    \n",
    "for _ in range(number_of_letters):\n",
    "    # Considering only upper and lowercase letters\n",
    "    random_integer = random.randint(97, 97 + 26 - 1)\n",
    "    flip_bit = random.randint(0, 1)\n",
    "    # Convert to lowercase if the flip bit is on\n",
    "    random_integer = random_integer - 32 if flip_bit == 1 else random_integer\n",
    "    # Keep appending random characters using chr(x)\n",
    "    random_string += (chr(random_integer))\n",
    "for _ in range(16-number_of_letters):\n",
    "    #add some numbers\n",
    "    random_integer = random.randint(1,9)\n",
    "    random_string += str(random_integer)\n",
    "\n",
    "rdm_list = list(random_string)\n",
    "random.shuffle(rdm_list)\n",
    "\n",
    "string1=\"\".join(map(str,rdm_list))\n",
    "\n",
    "print(string1, len(random_string))"
   ]
  },
  {
   "cell_type": "code",
   "execution_count": null,
   "id": "cf686068",
   "metadata": {},
   "outputs": [],
   "source": [
    "'''# Exercise 16 (and Solution)\n",
    "Write a password generator in Python. Be creative with how you generate passwords - strong passwords have a mix of lowercase letters, uppercase letters, numbers, and symbols. The passwords should be random, generating a new password every time the user asks for a new password. Include your run-time code in a main method.\n",
    "Extra:\n",
    "Ask the user how strong they want their password to be. For weak passwords, pick a word or two from a list.'''\n",
    "import random\n",
    "\n",
    "#function to create a strong password with uppercase letter, lowercase Letter, number and special characters\n",
    "def generateStrongPassword():\n",
    "    charsUpper = \"ABCDEFGHIJKLMNOPQRSTUVWXYZ\"\n",
    "    charsLow = \"abcdefghijklmnopqrstuvwxyz\"\n",
    "    charsNumber = \"0123456789\"\n",
    "    charsSpecial = \"!@#$%&*()[]{}\"\n",
    "    password = ''\n",
    "    password += random.choice(charsUpper)\n",
    "    password += random.choice(charsLow)\n",
    "    password += random.choice(charsNumber)\n",
    "    password += random.choice(charsSpecial)\n",
    "    password += random.choice(charsUpper)\n",
    "    password += random.choice(charsLow)\n",
    "    password += random.choice(charsNumber)\n",
    "    password += random.choice(charsSpecial)\n",
    "    return password\n",
    "\n",
    "#function to create a weak password from a default list\n",
    "def generateWeakPassword():\n",
    "    defaultPass = ['0123456','123456','abcdef','qawseedrf']\n",
    "    return random.choice(defaultPass)\n",
    "\n",
    "print('Generating password 1',generateStrongPassword())\n",
    "print('Generating password 2',generateStrongPassword())\n",
    "print('Generating password 3',generateStrongPassword())\n",
    "print('Generating password 4',generateStrongPassword())\n",
    "\n",
    "#Extra:\n",
    "answer = input('Do you want strong or weak password?')\n",
    "if answer == 'strong':\n",
    "    print('Your strong password is ',generateStrongPassword())\n",
    "elif answer == 'weak':\n",
    "    print('Your weak password is ',generateWeakPassword())\n",
    "else:\n",
    "    print('ERROR, you have typed a wrong word, please try again typing \"strong\" or \"weak\"')"
   ]
  }
 ],
 "metadata": {
  "kernelspec": {
   "display_name": "Python 3",
   "language": "python",
   "name": "python3"
  },
  "language_info": {
   "codemirror_mode": {
    "name": "ipython",
    "version": 3
   },
   "file_extension": ".py",
   "mimetype": "text/x-python",
   "name": "python",
   "nbconvert_exporter": "python",
   "pygments_lexer": "ipython3",
   "version": "3.8.8"
  }
 },
 "nbformat": 4,
 "nbformat_minor": 5
}
