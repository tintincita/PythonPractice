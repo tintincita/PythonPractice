{
 "cells": [
  {
   "cell_type": "code",
   "execution_count": 1,
   "id": "7d6daa09",
   "metadata": {},
   "outputs": [],
   "source": [
    "import random"
   ]
  },
  {
   "cell_type": "code",
   "execution_count": 7,
   "id": "25131e9b",
   "metadata": {},
   "outputs": [],
   "source": [
    "## given a four digit number returns a list of digits\n",
    "def get_digits(number):\n",
    "    digits=[]\n",
    "    number_temp = number\n",
    "    divider = [1000,100,10,1]\n",
    "\n",
    "    for i in divider:\n",
    "        new = int (number_temp/i)\n",
    "        number_temp = number_temp%i\n",
    "        digits.append(new)\n",
    "    return(digits)\n",
    "\n",
    "# Given two numbers as list of ordered digits, returns list with two elements:\n",
    "# cows (right number in right place) and bulls (right number in wrong place)\n",
    "def how_many_cows_bulls(sol, gss):\n",
    "    cows_and_bulls = [0,0]\n",
    "    cow_mask =[0,0,0,0]\n",
    "\n",
    "    for i in range(0,4):\n",
    "        if gss[i] == sol[i] :\n",
    "            cows_and_bulls[0] = cows_and_bulls[0] + 1\n",
    "            cow_mask[i]=1\n",
    "            \n",
    "    clean_sol=[]\n",
    "    clean_gss=[]\n",
    "    \n",
    "    for i in range(0,4):\n",
    "        if cow_mask[i] == 0:\n",
    "            clean_sol.append(sol[i])\n",
    "            clean_gss.append(gss[i])\n",
    "            \n",
    "    unique_gss=list(dict.fromkeys(clean_gss))\n",
    "    \n",
    "    for i in unique_gss:\n",
    "        if i in clean_sol:\n",
    "            cows_and_bulls[1] = cows_and_bulls[1] + 1\n",
    "    \n",
    "    return cows_and_bulls\n"
   ]
  },
  {
   "cell_type": "code",
   "execution_count": 3,
   "id": "a4a104cc",
   "metadata": {},
   "outputs": [
    {
     "name": "stdout",
     "output_type": "stream",
     "text": [
      "Welcome to the Cows and Bulls Game! \n",
      "[4, 3, 8, 4]\n"
     ]
    }
   ],
   "source": [
    "print(\"Welcome to the Cows and Bulls Game! \")\n",
    "number = random.randint(1,9999)\n",
    "solution = get_digits(number)\n",
    "print(solution)"
   ]
  },
  {
   "cell_type": "code",
   "execution_count": null,
   "id": "eaf5a928",
   "metadata": {},
   "outputs": [
    {
     "name": "stdout",
     "output_type": "stream",
     "text": [
      "\n",
      "Enter a four digit number:4444\n",
      "[2, 0]\n",
      "\n",
      "Enter a four digit number:4804\n",
      "[2, 1]\n",
      "\n",
      "Enter a four digit number:4348\n",
      "[2, 2]\n",
      "\n",
      "Enter a four digit number:4389\n",
      "[3, 0]\n"
     ]
    }
   ],
   "source": [
    "guess = 0 \n",
    "\n",
    "while guess != number :\n",
    "    guess = int(input(\"\\nEnter a four digit number:\"))\n",
    "    guess_dig = get_digits(guess)\n",
    "    result = how_many_cows_bulls(solution,guess_dig)\n",
    "    print(result)\n"
   ]
  },
  {
   "cell_type": "code",
   "execution_count": null,
   "id": "a577d9a7",
   "metadata": {},
   "outputs": [],
   "source": []
  },
  {
   "cell_type": "code",
   "execution_count": null,
   "id": "b0a9d645",
   "metadata": {},
   "outputs": [],
   "source": []
  },
  {
   "cell_type": "code",
   "execution_count": null,
   "id": "bc42897d",
   "metadata": {},
   "outputs": [],
   "source": []
  },
  {
   "cell_type": "code",
   "execution_count": null,
   "id": "7022f3c5",
   "metadata": {},
   "outputs": [],
   "source": []
  },
  {
   "cell_type": "code",
   "execution_count": null,
   "id": "07aafd77",
   "metadata": {},
   "outputs": [],
   "source": []
  },
  {
   "cell_type": "code",
   "execution_count": null,
   "id": "75d05c36",
   "metadata": {},
   "outputs": [],
   "source": []
  },
  {
   "cell_type": "code",
   "execution_count": null,
   "id": "2dcd870d",
   "metadata": {},
   "outputs": [],
   "source": []
  },
  {
   "cell_type": "code",
   "execution_count": null,
   "id": "d04a54a4",
   "metadata": {},
   "outputs": [],
   "source": [
    "\n"
   ]
  }
 ],
 "metadata": {
  "kernelspec": {
   "display_name": "Python 3",
   "language": "python",
   "name": "python3"
  },
  "language_info": {
   "codemirror_mode": {
    "name": "ipython",
    "version": 3
   },
   "file_extension": ".py",
   "mimetype": "text/x-python",
   "name": "python",
   "nbconvert_exporter": "python",
   "pygments_lexer": "ipython3",
   "version": "3.8.8"
  }
 },
 "nbformat": 4,
 "nbformat_minor": 5
}
