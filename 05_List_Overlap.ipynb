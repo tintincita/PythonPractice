{
 "cells": [
  {
   "cell_type": "code",
   "execution_count": 1,
   "id": "f0cb0ec4",
   "metadata": {},
   "outputs": [],
   "source": [
    "import random\n",
    "\n",
    "a = [1, 1, 2, 3, 5, 8, 13, 21, 34, 55, 89]\n",
    "b = [1, 2, 3, 4, 5, 6, 7, 8, 9, 10, 11, 12, 13]"
   ]
  },
  {
   "cell_type": "code",
   "execution_count": 2,
   "id": "ef0c036c",
   "metadata": {},
   "outputs": [
    {
     "name": "stdout",
     "output_type": "stream",
     "text": [
      "This is the first list [49, 63, 37, 40, 92, 39, 78, 38, 11, 5, 78, 34, 71, 62, 25, 4]\n",
      "This is the second list [93, 93, 11, 55, 7, 62, 53, 94, 35, 54, 54, 92, 79, 66, 78, 19, 29, 62, 56]\n",
      "Common numbers are  [92, 78, 11, 62]\n"
     ]
    }
   ],
   "source": [
    "len_a = random.randint(1,20)\n",
    "len_b = random.randint(1,20)\n",
    "\n",
    "a = []\n",
    "b = []\n",
    "\n",
    "for i in range(0,len_a):\n",
    "    new = random.randint(0,100)\n",
    "    a.append(new)\n",
    "    \n",
    "for i in range(0,len_b):\n",
    "    new = random.randint(0,100)\n",
    "    b.append(new)\n",
    "\n",
    "print('This is the first list', a)\n",
    "print('This is the second list', b)\n",
    "\n",
    "common = [aa for aa in a if aa in b]\n",
    "common = list(dict.fromkeys(common))\n",
    "print('Common numbers are ', common)"
   ]
  },
  {
   "cell_type": "code",
   "execution_count": 11,
   "id": "88a1a5ea",
   "metadata": {},
   "outputs": [
    {
     "name": "stdout",
     "output_type": "stream",
     "text": [
      "Common numbers are  [47]\n"
     ]
    }
   ],
   "source": []
  },
  {
   "cell_type": "code",
   "execution_count": 7,
   "id": "1202e3d5",
   "metadata": {},
   "outputs": [
    {
     "name": "stdout",
     "output_type": "stream",
     "text": [
      "[4, 70, 19, 87, 24, 10, 36, 91, 50, 31, 67, 52, 75, 7, 23, 16, 52]\n"
     ]
    }
   ],
   "source": [
    "print(a)"
   ]
  },
  {
   "cell_type": "code",
   "execution_count": null,
   "id": "28de2c57",
   "metadata": {},
   "outputs": [],
   "source": [
    "print([aa for aa in a if aa in b])"
   ]
  },
  {
   "cell_type": "code",
   "execution_count": null,
   "id": "1ac92b19",
   "metadata": {},
   "outputs": [],
   "source": [
    "print([bb for bb in b if bb in a])"
   ]
  },
  {
   "cell_type": "code",
   "execution_count": null,
   "id": "94848ed6",
   "metadata": {},
   "outputs": [],
   "source": []
  },
  {
   "cell_type": "code",
   "execution_count": null,
   "id": "c4108ed1",
   "metadata": {},
   "outputs": [],
   "source": [
    "print(common)"
   ]
  },
  {
   "cell_type": "code",
   "execution_count": null,
   "id": "84d979c0",
   "metadata": {},
   "outputs": [],
   "source": []
  }
 ],
 "metadata": {
  "kernelspec": {
   "display_name": "Python 3 (ipykernel)",
   "language": "python",
   "name": "python3"
  },
  "language_info": {
   "codemirror_mode": {
    "name": "ipython",
    "version": 3
   },
   "file_extension": ".py",
   "mimetype": "text/x-python",
   "name": "python",
   "nbconvert_exporter": "python",
   "pygments_lexer": "ipython3",
   "version": "3.10.8"
  }
 },
 "nbformat": 4,
 "nbformat_minor": 5
}
