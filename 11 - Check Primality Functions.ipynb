{
 "cells": [
  {
   "cell_type": "code",
   "execution_count": 6,
   "id": "e006f88f",
   "metadata": {},
   "outputs": [],
   "source": [
    "\n",
    "\n",
    "def div_list (number):\n",
    "    divisor_list =[]\n",
    "    for i in range( 2 , number):\n",
    "        if number%i == 0 :\n",
    "            divisor_list.append(i)\n",
    "    return divisor_list"
   ]
  },
  {
   "cell_type": "code",
   "execution_count": 8,
   "id": "fcacd939",
   "metadata": {},
   "outputs": [
    {
     "name": "stdout",
     "output_type": "stream",
     "text": [
      "Give me a number: 7\n",
      "that's a prime number\n"
     ]
    }
   ],
   "source": [
    "number = int(input(\"Give me a number: \"))\n",
    "divisors = div_list(number)\n",
    "\n",
    "if divisors:\n",
    "    print(\"not a prime number, as it is divisible by: \")\n",
    "    print(divisors)\n",
    "else:\n",
    "    print(\"that's a prime number\")"
   ]
  },
  {
   "cell_type": "code",
   "execution_count": null,
   "id": "ffdd2e7f",
   "metadata": {},
   "outputs": [],
   "source": []
  }
 ],
 "metadata": {
  "kernelspec": {
   "display_name": "Python 3",
   "language": "python",
   "name": "python3"
  },
  "language_info": {
   "codemirror_mode": {
    "name": "ipython",
    "version": 3
   },
   "file_extension": ".py",
   "mimetype": "text/x-python",
   "name": "python",
   "nbconvert_exporter": "python",
   "pygments_lexer": "ipython3",
   "version": "3.8.8"
  }
 },
 "nbformat": 4,
 "nbformat_minor": 5
}
