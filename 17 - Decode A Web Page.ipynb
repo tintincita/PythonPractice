{
 "cells": [
  {
   "cell_type": "code",
   "execution_count": 11,
   "id": "9e920f0b",
   "metadata": {},
   "outputs": [],
   "source": [
    "import requests\n",
    "from bs4 import BeautifulSoup\n"
   ]
  },
  {
   "cell_type": "code",
   "execution_count": 22,
   "id": "0a740896",
   "metadata": {},
   "outputs": [
    {
     "name": "stdout",
     "output_type": "stream",
     "text": [
      "‘Can’t Compete’: Why Hiring for Child Care Is a Problem\n",
      "Deported by U.S., Haitians Are in Shock: ‘I Don’t Know This Country’\n",
      "U.N. Updates: World Leaders Meet in Shadow of Pandemic\n",
      "Lawsuits Filed Against Texas Doctor Who Said He Performed an Abortion\n",
      "Democrats Begin Effort to Curb Post-Trump Presidential Powers\n",
      "Trudeau Projected to Remain Prime Minister, but Falls Short of a Majority\n",
      "Their Baby Died in the Hospital. They Were Billed $257,000.\n",
      "Surfside Agonizes Over What to Do With Site of Condo Collapse\n",
      "How to Kill Flies, With Panache\n"
     ]
    }
   ],
   "source": [
    "url = 'https://www.nytimes.com'\n",
    "r = requests.get(url)\n",
    "r_html = r.text\n",
    "soup = BeautifulSoup(r_html)\n",
    "headings = soup.findAll(\"h3\", {\"class\": \"css-xxaj7r e1lsht870\"})\n",
    "\n",
    "for heading in headings:\n",
    "    if heading.findAll(\"a\"):\n",
    "        # .strip() removes leading/trailing whitespace\n",
    "        print(heading.a.text.strip())\n",
    "    else:\n",
    "        print(heading.text)"
   ]
  },
  {
   "cell_type": "code",
   "execution_count": null,
   "id": "47ea6cd4",
   "metadata": {},
   "outputs": [],
   "source": []
  }
 ],
 "metadata": {
  "kernelspec": {
   "display_name": "Python 3",
   "language": "python",
   "name": "python3"
  },
  "language_info": {
   "codemirror_mode": {
    "name": "ipython",
    "version": 3
   },
   "file_extension": ".py",
   "mimetype": "text/x-python",
   "name": "python",
   "nbconvert_exporter": "python",
   "pygments_lexer": "ipython3",
   "version": "3.8.8"
  }
 },
 "nbformat": 4,
 "nbformat_minor": 5
}
