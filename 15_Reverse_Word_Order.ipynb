{
 "cells": [
  {
   "cell_type": "code",
   "execution_count": null,
   "id": "cf109829",
   "metadata": {},
   "outputs": [],
   "source": []
  },
  {
   "cell_type": "code",
   "execution_count": 3,
   "id": "881ee1a1",
   "metadata": {},
   "outputs": [],
   "source": [
    "a = \"My name is Michele, this is another example\""
   ]
  },
  {
   "cell_type": "code",
   "execution_count": 8,
   "id": "dcb88c29",
   "metadata": {},
   "outputs": [
    {
     "name": "stdout",
     "output_type": "stream",
     "text": [
      "example another is this Michele, is name My\n"
     ]
    }
   ],
   "source": [
    "breaks = a.split(\" \")\n",
    "breaks = breaks[::-1]\n",
    "result = \" \".join(breaks)\n",
    "print(result)"
   ]
  },
  {
   "cell_type": "code",
   "execution_count": 6,
   "id": "a6039709",
   "metadata": {},
   "outputs": [
    {
     "name": "stdout",
     "output_type": "stream",
     "text": [
      "['My', 'name', 'is', 'Michele,', 'this', 'is', 'another', 'example']\n"
     ]
    }
   ],
   "source": []
  },
  {
   "cell_type": "code",
   "execution_count": null,
   "id": "9451b7a1",
   "metadata": {},
   "outputs": [],
   "source": [
    "# before i knew about split...\n",
    "\n",
    "c=[]\n",
    "word = \"\"\n",
    "\n",
    "for char in a:\n",
    "    if(char == \" \"):\n",
    "        c.append(word)\n",
    "        word =\"\"\n",
    "    else:\n",
    "        word += char\n",
    "c.append(word)\n",
    "    \n",
    "c=c[::-1]\n",
    "\n",
    "\n",
    "new_a = \"\"\n",
    "\n",
    "for i in c:\n",
    "    new_a += i\n",
    "    new_a += \" \"\n",
    "print(new_a)"
   ]
  }
 ],
 "metadata": {
  "kernelspec": {
   "display_name": "Python 3",
   "language": "python",
   "name": "python3"
  },
  "language_info": {
   "codemirror_mode": {
    "name": "ipython",
    "version": 3
   },
   "file_extension": ".py",
   "mimetype": "text/x-python",
   "name": "python",
   "nbconvert_exporter": "python",
   "pygments_lexer": "ipython3",
   "version": "3.8.8"
  }
 },
 "nbformat": 4,
 "nbformat_minor": 5
}
