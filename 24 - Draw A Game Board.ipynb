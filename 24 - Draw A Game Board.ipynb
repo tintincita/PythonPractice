{
 "cells": [
  {
   "cell_type": "code",
   "execution_count": 1,
   "id": "d73f5c8a",
   "metadata": {},
   "outputs": [],
   "source": [
    "def Drw_Brd(size = 3):\n",
    "    a = \"---\"\n",
    "    b = \"|\"\n",
    "\n",
    "    floor = \" \"\n",
    "    wall = \"|   \"\n",
    "\n",
    "    counter = 0\n",
    "    while counter < size:\n",
    "        floor = floor + a + \" \"\n",
    "        wall = wall + b + \"   \"\n",
    "        counter = counter + 1\n",
    "\n",
    "    counter = 0\n",
    "    while counter < size:\n",
    "        print(floor)\n",
    "        print(wall)\n",
    "        counter = counter + 1\n",
    "    print(floor)"
   ]
  },
  {
   "cell_type": "code",
   "execution_count": 3,
   "id": "2ab4875f",
   "metadata": {},
   "outputs": [
    {
     "name": "stdout",
     "output_type": "stream",
     "text": [
      " --- --- --- --- \n",
      "|   |   |   |   |   \n",
      " --- --- --- --- \n",
      "|   |   |   |   |   \n",
      " --- --- --- --- \n",
      "|   |   |   |   |   \n",
      " --- --- --- --- \n",
      "|   |   |   |   |   \n",
      " --- --- --- --- \n"
     ]
    }
   ],
   "source": [
    "Drw_Brd(4)"
   ]
  },
  {
   "cell_type": "code",
   "execution_count": null,
   "id": "42c4249e",
   "metadata": {},
   "outputs": [],
   "source": []
  },
  {
   "cell_type": "code",
   "execution_count": null,
   "id": "9ef655c2",
   "metadata": {},
   "outputs": [],
   "source": []
  },
  {
   "cell_type": "code",
   "execution_count": null,
   "id": "848bf26c",
   "metadata": {},
   "outputs": [],
   "source": []
  },
  {
   "cell_type": "code",
   "execution_count": null,
   "id": "5361ba13",
   "metadata": {},
   "outputs": [],
   "source": []
  }
 ],
 "metadata": {
  "kernelspec": {
   "display_name": "Python 3",
   "language": "python",
   "name": "python3"
  },
  "language_info": {
   "codemirror_mode": {
    "name": "ipython",
    "version": 3
   },
   "file_extension": ".py",
   "mimetype": "text/x-python",
   "name": "python",
   "nbconvert_exporter": "python",
   "pygments_lexer": "ipython3",
   "version": "3.8.8"
  }
 },
 "nbformat": 4,
 "nbformat_minor": 5
}
