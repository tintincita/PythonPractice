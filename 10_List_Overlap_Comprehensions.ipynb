{
 "cells": [
  {
   "cell_type": "code",
   "execution_count": 8,
   "id": "165ba1e1",
   "metadata": {},
   "outputs": [],
   "source": [
    "import random"
   ]
  },
  {
   "cell_type": "code",
   "execution_count": 12,
   "id": "c0288654",
   "metadata": {},
   "outputs": [
    {
     "name": "stdout",
     "output_type": "stream",
     "text": [
      "list a:  [70, 22, 63, 62, 68, 74, 54, 29, 18, 72, 49, 10, 42, 89, 92, 7, 1]\n",
      "list b:  [86, 83, 74, 73, 97, 69, 35, 15, 72, 95, 49, 42]\n",
      "common items:  [74, 72, 49, 42]\n"
     ]
    }
   ],
   "source": [
    "len_a = random.randint(1,20)\n",
    "len_b = random.randint(1,20)\n",
    "\n",
    "a = random.sample(range(100), len_a)\n",
    "b = random.sample(range(100), len_b)\n",
    "\n",
    "common = ([aa for aa in a if aa in b])\n",
    "common = list(dict.fromkeys(common))\n",
    "\n",
    "print(\"list a: \",a)\n",
    "print(\"list b: \",b)\n",
    "print(\"common items: \",common)"
   ]
  },
  {
   "cell_type": "code",
   "execution_count": 6,
   "id": "277b56f6",
   "metadata": {},
   "outputs": [
    {
     "name": "stdout",
     "output_type": "stream",
     "text": [
      "[1, 2, 3, 5, 8, 13]\n"
     ]
    }
   ],
   "source": []
  },
  {
   "cell_type": "code",
   "execution_count": null,
   "id": "4142d2aa",
   "metadata": {},
   "outputs": [],
   "source": []
  }
 ],
 "metadata": {
  "kernelspec": {
   "display_name": "Python 3",
   "language": "python",
   "name": "python3"
  },
  "language_info": {
   "codemirror_mode": {
    "name": "ipython",
    "version": 3
   },
   "file_extension": ".py",
   "mimetype": "text/x-python",
   "name": "python",
   "nbconvert_exporter": "python",
   "pygments_lexer": "ipython3",
   "version": "3.8.8"
  }
 },
 "nbformat": 4,
 "nbformat_minor": 5
}
